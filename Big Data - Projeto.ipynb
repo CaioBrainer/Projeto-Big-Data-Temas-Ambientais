{
 "cells": [
  {
   "cell_type": "code",
   "execution_count": 0,
   "metadata": {
    "application/vnd.databricks.v1+cell": {
     "cellMetadata": {
      "byteLimit": 2048000,
      "rowLimit": 10000
     },
     "inputWidgets": {},
     "nuid": "d07e2476-3b60-4bb4-919a-38ca292f908c",
     "showTitle": false,
     "title": ""
    }
   },
   "outputs": [
    {
     "output_type": "display_data",
     "data": {
      "text/html": [
       "<style scoped>\n",
       "  .table-result-container {\n",
       "    max-height: 300px;\n",
       "    overflow: auto;\n",
       "  }\n",
       "  table, th, td {\n",
       "    border: 1px solid black;\n",
       "    border-collapse: collapse;\n",
       "  }\n",
       "  th, td {\n",
       "    padding: 5px;\n",
       "  }\n",
       "  th {\n",
       "    text-align: left;\n",
       "  }\n",
       "</style><div class='table-result-container'><table class='table-result'><thead style='background-color: white'><tr><th>path</th><th>name</th><th>size</th><th>modificationTime</th></tr></thead><tbody><tr><td>dbfs:/FileStore/temas_ambientais.parquet</td><td>temas_ambientais.parquet</td><td>841090073</td><td>1715632389000</td></tr></tbody></table></div>"
      ]
     },
     "metadata": {
      "application/vnd.databricks.v1+output": {
       "addedWidgets": {},
       "aggData": [],
       "aggError": "",
       "aggOverflow": false,
       "aggSchema": [],
       "aggSeriesLimitReached": false,
       "aggType": "",
       "arguments": {},
       "columnCustomDisplayInfos": {},
       "data": [
        [
         "dbfs:/FileStore/temas_ambientais.parquet",
         "temas_ambientais.parquet",
         841090073,
         1715632389000
        ]
       ],
       "datasetInfos": [],
       "dbfsResultPath": null,
       "isJsonSchema": true,
       "metadata": {},
       "overflow": false,
       "plotOptions": {
        "customPlotOptions": {},
        "displayType": "table",
        "pivotAggregation": null,
        "pivotColumns": null,
        "xColumns": null,
        "yColumns": null
       },
       "removedWidgets": [],
       "schema": [
        {
         "metadata": "{}",
         "name": "path",
         "type": "\"string\""
        },
        {
         "metadata": "{}",
         "name": "name",
         "type": "\"string\""
        },
        {
         "metadata": "{}",
         "name": "size",
         "type": "\"long\""
        },
        {
         "metadata": "{}",
         "name": "modificationTime",
         "type": "\"long\""
        }
       ],
       "type": "table"
      }
     },
     "output_type": "display_data"
    }
   ],
   "source": [
    "display(dbutils.fs.ls('dbfs:/FileStore/temas_ambientais.parquet'))"
   ]
  },
  {
   "cell_type": "code",
   "execution_count": 0,
   "metadata": {
    "application/vnd.databricks.v1+cell": {
     "cellMetadata": {
      "byteLimit": 2048000,
      "implicitDf": true,
      "rowLimit": 10000
     },
     "inputWidgets": {},
     "nuid": "3ce8635b-bab1-42f4-8e22-aba61645d123",
     "showTitle": false,
     "title": ""
    }
   },
   "outputs": [
    {
     "output_type": "display_data",
     "data": {
      "text/html": [
       "<style scoped>\n",
       "  .table-result-container {\n",
       "    max-height: 300px;\n",
       "    overflow: auto;\n",
       "  }\n",
       "  table, th, td {\n",
       "    border: 1px solid black;\n",
       "    border-collapse: collapse;\n",
       "  }\n",
       "  th, td {\n",
       "    padding: 5px;\n",
       "  }\n",
       "  th {\n",
       "    text-align: left;\n",
       "  }\n",
       "</style><div class='table-result-container'><table class='table-result'><thead style='background-color: white'><tr><th>database</th><th>tableName</th><th>isTemporary</th></tr></thead><tbody></tbody></table></div>"
      ]
     },
     "metadata": {
      "application/vnd.databricks.v1+output": {
       "addedWidgets": {},
       "aggData": [],
       "aggError": "",
       "aggOverflow": false,
       "aggSchema": [],
       "aggSeriesLimitReached": false,
       "aggType": "",
       "arguments": {},
       "columnCustomDisplayInfos": {},
       "data": [],
       "datasetInfos": [],
       "dbfsResultPath": null,
       "isJsonSchema": true,
       "metadata": {},
       "overflow": false,
       "plotOptions": {
        "customPlotOptions": {},
        "displayType": "table",
        "pivotAggregation": null,
        "pivotColumns": null,
        "xColumns": null,
        "yColumns": null
       },
       "removedWidgets": [],
       "schema": [
        {
         "metadata": "{}",
         "name": "database",
         "type": "\"string\""
        },
        {
         "metadata": "{}",
         "name": "tableName",
         "type": "\"string\""
        },
        {
         "metadata": "{}",
         "name": "isTemporary",
         "type": "\"boolean\""
        }
       ],
       "type": "table"
      }
     },
     "output_type": "display_data"
    }
   ],
   "source": [
    "%sql\n",
    "show tables"
   ]
  },
  {
   "cell_type": "code",
   "execution_count": 0,
   "metadata": {
    "application/vnd.databricks.v1+cell": {
     "cellMetadata": {
      "byteLimit": 2048000,
      "implicitDf": true,
      "rowLimit": 10000
     },
     "inputWidgets": {},
     "nuid": "b7354933-d4bb-41ab-bd54-e3c54cf406c9",
     "showTitle": false,
     "title": ""
    }
   },
   "outputs": [
    {
     "output_type": "display_data",
     "data": {
      "text/html": [
       "<style scoped>\n",
       "  .table-result-container {\n",
       "    max-height: 300px;\n",
       "    overflow: auto;\n",
       "  }\n",
       "  table, th, td {\n",
       "    border: 1px solid black;\n",
       "    border-collapse: collapse;\n",
       "  }\n",
       "  th, td {\n",
       "    padding: 5px;\n",
       "  }\n",
       "  th {\n",
       "    text-align: left;\n",
       "  }\n",
       "</style><div class='table-result-container'><table class='table-result'><thead style='background-color: white'><tr><th>databaseName</th></tr></thead><tbody><tr><td>default</td></tr></tbody></table></div>"
      ]
     },
     "metadata": {
      "application/vnd.databricks.v1+output": {
       "addedWidgets": {},
       "aggData": [],
       "aggError": "",
       "aggOverflow": false,
       "aggSchema": [],
       "aggSeriesLimitReached": false,
       "aggType": "",
       "arguments": {},
       "columnCustomDisplayInfos": {},
       "data": [
        [
         "default"
        ]
       ],
       "datasetInfos": [],
       "dbfsResultPath": null,
       "isJsonSchema": true,
       "metadata": {},
       "overflow": false,
       "plotOptions": {
        "customPlotOptions": {},
        "displayType": "table",
        "pivotAggregation": null,
        "pivotColumns": null,
        "xColumns": null,
        "yColumns": null
       },
       "removedWidgets": [],
       "schema": [
        {
         "metadata": "{}",
         "name": "databaseName",
         "type": "\"string\""
        }
       ],
       "type": "table"
      }
     },
     "output_type": "display_data"
    }
   ],
   "source": [
    "%sql\n",
    "show databases"
   ]
  },
  {
   "cell_type": "code",
   "execution_count": 0,
   "metadata": {
    "application/vnd.databricks.v1+cell": {
     "cellMetadata": {
      "byteLimit": 2048000,
      "rowLimit": 10000
     },
     "inputWidgets": {},
     "nuid": "3f7377d7-d1d0-4d03-85b2-332019ebd49f",
     "showTitle": false,
     "title": ""
    }
   },
   "outputs": [],
   "source": [
    "temas_ambientaisDF = spark.read.parquet(\"dbfs:/FileStore/temas_ambientais.parquet\")"
   ]
  },
  {
   "cell_type": "code",
   "execution_count": 0,
   "metadata": {
    "application/vnd.databricks.v1+cell": {
     "cellMetadata": {
      "byteLimit": 2048000,
      "rowLimit": 10000
     },
     "inputWidgets": {},
     "nuid": "0b245da7-dfd0-4cca-8fb9-cf1ad292876a",
     "showTitle": false,
     "title": ""
    }
   },
   "outputs": [
    {
     "output_type": "stream",
     "name": "stdout",
     "output_type": "stream",
     "text": [
      "+---+--------------------+-----------+--------------+--------------------+-----------------+--------------------+------------+----------------------------------+---------------------------+---------------------------+---------------------+----------------------+-----------------+-----------------+--------------------+--------------------------------+----------------------+----------------------------+-----------------+---------------+-----------------+---------------------------+----------------------------------------+----------------+-----------------------+\n| uf|           municipio|codigo_ibge|area_do_imovel|        registro_car|situacao_cadastro|   condicao_cadastro|area_liquida|area_remanescente_vegetacao_nativa|area_reserva_legal_proposta|area_preservacao_permanente|area_nao_classificada|solicitacao_adesao_pra|         latitude|        longitude|      data_inscricao|data_alteracao_condicao_cadastro|area_rural_consolidada|area_servidao_administrativa|tipo_imovel_rural|modulos_fiscais|area_uso_restrito|area_reserva_legal_averbada|area_reserva_legal_aprovada_nao_averbada|     area_pousio|data_ultima_retificacao|\n+---+--------------------+-----------+--------------+--------------------+-----------------+--------------------+------------+----------------------------------+---------------------------+---------------------------+---------------------+----------------------+-----------------+-----------------+--------------------+--------------------------------+----------------------+----------------------------+-----------------+---------------+-----------------+---------------------------+----------------------------------------+----------------+-----------------------+\n| GO|             Nazário|    5214408|      119.6326|GO-5214408-3AEF20...|               AT|Analisado com pen...|    119.6326|                  6.43202795367569|                      6.432|           5.29751084282892|    0.001022956103809|                   Sim|-16.5923058689987|-49.9019017039191|2014-05-07 16:01:...|                            null|      112.301149046683|                         0.0|              IRU|         5.4378|              0.0|                        0.0|                                     0.0|             0.0|   2014-05-07 16:01:...|\n| SC|             Meleiro|    4210803|         7.534|SC-4210803-BC127B...|               AT|Aguardando anális...|       7.534|                  5.51785410336982|                        0.0|                        0.0|   0.0015934931798488|                   Nao|-28.7930798512303|-49.6472023744097|2014-05-07 16:02:...|                            null|      2.01445162492469|                         0.0|              IRU|         0.4186|              0.0|                      1.506|                                     0.0|             0.0|   2014-05-07 16:02:...|\n| GO|           Nova Roma|    5214903|       19.4883|GO-5214903-7F5804...|               PE|Analisado com pen...|       19.36|                  19.4882633569717|                      3.872|                        0.0|                  0.0|                   Nao|-13.6370551503248|-47.0339670619739|2014-05-07 16:06:...|                            null|                   0.0|                         0.0|              IRU|         0.2784|              0.0|                        0.0|                                     0.0|             0.0|   2014-05-07 16:06:...|\n| GO|Santa Helena de G...|    5219308|        22.934|GO-5219308-647819...|               PE|Analisado com pen...|       22.88|                   1.5021496193707|                     1.5028|          0.568927694143718|     18.2335997514784|                   Sim|-17.8327877579625|-50.6015145422339|2014-05-07 17:49:...|                            null|      3.08289042473435|                         0.0|              IRU|         1.1467|              0.0|                        0.0|                                     0.0|             0.0|   2014-05-07 17:49:...|\n| PR|   Cornélio Procópio|    4106407|        10.956|PR-4106407-0F0608...|               AT|          Em análise|      10.956|                               0.0|                        0.0|                        0.0|    0.161657419734154|                   Nao|-23.1841101335722|-50.6715645967419|2014-05-07 17:52:...|                            null|      10.7942669028953|                         0.0|              IRU|         0.6087|              0.0|                        0.0|                                     0.0|             0.0|   2014-05-07 17:52:...|\n| GO|     Buriti de Goiás|    5203939|       37.3628|GO-5203939-24B667...|               AT|Analisado com pen...|      37.271|                               0.0|                     7.4542|           3.48182904076294|     36.6495720619986|                   Sim|-16.2164807816082|-50.4953581696022|2014-05-07 18:10:...|                            null|                   0.0|                         0.0|              IRU|         1.6983|              0.0|                        0.0|                                     0.0|             0.0|   2014-05-07 18:10:...|\n| GO|          Planaltina|    5217609|       97.9881|GO-5217609-5AF397...|               PE|Analisado com pen...|     98.1345|                               0.0|                    21.8673|           2.12858352269074|     97.6714521959102|                   Nao|-15.1179720733421|-47.8383739460241|2014-05-08 00:02:...|                            null|                   0.0|                         0.0|              IRU|         2.7997|              0.0|                        0.0|                                     0.0|             0.0|   2014-05-08 00:02:...|\n| PR|      Jandaia do Sul|    4112108|        6.1533|PR-4112108-9A8173...|               AT|Aguardando anális...|      6.1533|                               0.0|                        0.0|                        0.0|     6.14899874393451|                   Sim|-23.6224664264801|-51.6578666515836|2014-05-08 08:00:...|                            null|                   0.0|                         0.0|              IRU|         0.3846|              0.0|                        0.0|                                     0.0|             0.0|   2014-05-08 08:00:...|\n| PR|      Jandaia do Sul|    4112108|        4.9027|PR-4112108-A5B59A...|               AT|Aguardando anális...|      4.9027|                               0.0|                        0.0|                        0.0|     4.89928986130661|                   Sim|-23.6224240639671|-51.6578657246737|2014-05-08 08:03:...|                            null|                   0.0|                         0.0|              IRU|         0.3064|              0.0|                        0.0|                                     0.0|             0.0|   2014-05-08 08:03:...|\n| GO|             Formosa|    5208004|        5.4097|GO-5208004-4F872D...|               PE|Analisado com pen...|      5.4139|                               0.0|                     1.1026|           2.27859310705466|     1.21704276768816|                   Sim|-15.5759058160859| -47.347320962841|2014-05-08 08:36:...|                            null|      3.76410267729312|                         0.0|              IRU|         0.1352|              0.0|                        0.0|                                     0.0|1.21609669322065|   2014-05-08 08:36:...|\n| GO|Santa Helena de G...|    5219308|        3.9105|GO-5219308-AF2363...|               PE|Analisado com pen...|      3.9017|                 0.245592305220291|                     0.2439|                        0.0|     3.11964077305441|                   Sim|  -17.76391298631|-50.7645585662756|2014-05-08 08:41:...|                            null|      0.53817772397697|                         0.0|              IRU|         0.1955|              0.0|                        0.0|                                     0.0|             0.0|   2014-05-08 08:41:...|\n| PR|             Astorga|    4102109|      213.8016|PR-4102109-2E8FF9...|               AT|Aguardando anális...|    213.8016|                               0.0|                        0.0|           15.1908326805634|     128.481619369247|                   Nao|-23.3388741895933|-51.6458730432584|2014-05-08 09:03:...|                            null|      83.6068667104104|                         0.0|              IRU|        13.3626|              0.0|                   103.3418|                                     0.0|             0.0|   2014-05-08 09:03:...|\n| GO|             Itapaci|    5210901|      177.3984|GO-5210901-18295A...|               AT|Analisado com pen...|    177.3984|                               0.0|                    32.4073|           9.65986396424072|     175.233119654483|                   Nao|-15.0467079484747|-49.8101753503116|2014-05-08 10:37:...|                            null|                   0.0|                         0.0|              IRU|         5.9133|              0.0|                    29.4853|                                     0.0|             0.0|   2014-05-08 10:37:...|\n| GO|           Morrinhos|    5213806|        6.8385|GO-5213806-B36B17...|               AT|Analisado com pen...|      6.8385|                  6.49708147328459|                     1.3888|          0.770908967393169|    0.238097099980264|                   Nao|-17.9207537479263|-48.9040563161888|2014-05-08 10:40:...|                            null|                   0.0|                         0.0|              IRU|          0.171|              0.0|                        0.0|                                     0.0|             0.0|   2014-05-08 10:40:...|\n| GO|           Goianésia|    5208608|       20.3658|GO-5208608-9D8E6D...|               PE|Analisado com pen...|     20.3016|                               0.0|                      4.167|           2.89464033310083|      20.036599391474|                   Nao|-15.5639038390729|-49.1886739921727|2014-05-08 10:53:...|                            null|                   0.0|                         0.0|              IRU|         1.0183|              0.0|                        0.0|                                     0.0|             0.0|   2014-05-08 10:53:...|\n| RJ|           Itaperuna|    3302205|        6.0851|RJ-3302205-169354...|               PE|Analisado com pen...|       5.931|                               0.0|                     1.4792|           1.61754906789992|     5.83886665807348|                   Sim|-21.3214432276222|  -41.80444759989|2014-05-08 11:02:...|                            null|    0.0501235222115647|                      0.1619|              IRU|         0.2028|              0.0|                        0.0|                                     0.0|4.33622302031857|   2014-05-08 11:02:...|\n| GO|           Goianésia|    5208608|       20.3658|GO-5208608-A154F2...|               PE|Analisado com pen...|     20.3016|                               0.0|                      4.167|           2.89464033310083|      20.036599391474|                   Nao|-15.5639038390729|-49.1886739921727|2014-05-08 11:07:...|                            null|                   0.0|                         0.0|              IRU|         1.0183|              0.0|                        0.0|                                     0.0|             0.0|   2014-05-08 11:07:...|\n| PR|Marechal Cândido ...|    4114609|        3.3549|PR-4114609-2D4A70...|               AT|Aguardando anális...|      3.3549|                               0.0|                        0.0|                        0.0|     3.35944271401332|                   Sim|-24.5530118986487|-54.0842691356302|2014-05-08 11:14:...|                            null|                   0.0|                         0.0|              IRU|         0.1864|              0.0|                        0.0|                                     0.0|             0.0|   2014-05-08 11:14:...|\n| MA|            Pinheiro|    2108603|      291.6915|MA-2108603-3C550F...|               PE|Analisado com pen...|    287.8908|                   234.09707247566|                   230.4369|                        0.0|     5.47498268246462|                   Nao|-2.30715012142595| -45.002070084726|2014-05-08 11:51:...|            2021-12-17 12:28:...|      52.0483564388429|                         0.0|              IRU|         5.3035|              0.0|                        0.0|                                     0.0|             0.0|   2014-05-08 11:51:...|\n| RJ|           Itaperuna|    3302205|       44.4215|RJ-3302205-1DEA02...|               PE|Analisado com pen...|     43.3195|                               0.0|                     8.8523|           11.0546352649015|     40.9607595756084|                   Sim|-21.3400673460579|-41.6868689432052|2014-05-08 12:03:...|                            null|     0.113328063728078|                      1.1514|              IRU|         1.4807|              0.0|                        0.0|                                     0.0|31.9864053125698|   2014-05-08 12:03:...|\n+---+--------------------+-----------+--------------+--------------------+-----------------+--------------------+------------+----------------------------------+---------------------------+---------------------------+---------------------+----------------------+-----------------+-----------------+--------------------+--------------------------------+----------------------+----------------------------+-----------------+---------------+-----------------+---------------------------+----------------------------------------+----------------+-----------------------+\nonly showing top 20 rows\n\n"
     ]
    }
   ],
   "source": [
    "temas_ambientaisDF.show()"
   ]
  }
 ],
 "metadata": {
  "application/vnd.databricks.v1+notebook": {
   "dashboards": [],
   "environmentMetadata": null,
   "language": "python",
   "notebookMetadata": {
    "mostRecentlyExecutedCommandWithImplicitDF": {
     "commandId": 1363010002898276,
     "dataframes": [
      "_sqldf"
     ]
    },
    "pythonIndentUnit": 4
   },
   "notebookName": "Big Data - Projeto",
   "widgets": {}
  }
 },
 "nbformat": 4,
 "nbformat_minor": 0
}
